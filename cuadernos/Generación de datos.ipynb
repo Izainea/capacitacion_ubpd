{
 "cells": [
  {
   "cell_type": "code",
   "execution_count": null,
   "metadata": {},
   "outputs": [
    {
     "name": "stderr",
     "output_type": "stream",
     "text": [
      "Generando testimonios:   0%|          | 0/300 [00:00<?, ?it/s]"
     ]
    },
    {
     "name": "stderr",
     "output_type": "stream",
     "text": [
      "Generando testimonios: 100%|██████████| 300/300 [14:38<00:00,  2.93s/it]"
     ]
    },
    {
     "name": "stdout",
     "output_type": "stream",
     "text": [
      "\n",
      "Archivo 'dataset_testimonios_sinteticos.csv' generado con éxito.\n"
     ]
    },
    {
     "name": "stderr",
     "output_type": "stream",
     "text": [
      "\n"
     ]
    }
   ],
   "source": [
    "from openai import OpenAI\n",
    "import csv\n",
    "from faker import Faker\n",
    "import random\n",
    "from tqdm import tqdm\n",
    "from dotenv import load_dotenv\n",
    "load_dotenv()\n",
    "# Configura tu clave de API de OpenAI\n",
    "#\n",
    "client = OpenAI()\n",
    "\n",
    "# Inicializa Faker y establece el local para generar datos colombianos\n",
    "fake = Faker('es_CO')\n",
    "\n",
    "# Número de testimonios a generar\n",
    "num_testimonios = 300\n",
    "\n",
    "# Lista de posibles ciudades colombianas\n",
    "ciudades = [\n",
    "    'Bogotá', 'Medellín', 'Cali', 'Barranquilla', 'Cartagena', 'Bucaramanga',\n",
    "    'Pereira', 'Santa Marta', 'Manizales', 'Cúcuta', 'Villavicencio',\n",
    "    'Ibagué', 'Pasto', 'Montería', 'Valledupar'\n",
    "]\n",
    "\n",
    "# Lista de categorías o características adicionales\n",
    "categorias = [\n",
    "    'Desplazamiento forzado', 'Reclutamiento de menores', 'Desaparición forzada',\n",
    "    'Violencia sexual', 'Minas antipersona', 'Secuestro', 'Masacres',\n",
    "    'Extorsión', 'Amenazas', 'Violencia intrafamiliar'\n",
    "]\n",
    "\n",
    "# Función para generar un testimonio usando la API de OpenAI\n",
    "def generar_testimonio(categoria):\n",
    "    prompt = f\"Escribe un testimonio breve y ficticio sobre {categoria} en el contexto del conflicto colombiano, desde la perspectiva de una víctima.\"\n",
    "    try:\n",
    "        respuesta = client.chat.completions.create(\n",
    "            model=\"gpt-4o\",\n",
    "            messages=[\n",
    "                {\"role\": \"system\", \"content\": \"Eres un asistente que genera testimonios ficticios respetuosos y sensibles.\"},\n",
    "                {\"role\": \"user\", \"content\": prompt}\n",
    "            ],\n",
    "            max_tokens=150,\n",
    "            n=1,\n",
    "            stop=None,\n",
    "            temperature=0.7,\n",
    "        )\n",
    "        testimonio = respuesta.choices[0].message.content.strip()\n",
    "        return testimonio\n",
    "    except Exception as e:\n",
    "        print(f\"Error al generar el testimonio: {e}\")\n",
    "        return \"Testimonio no disponible.\"\n",
    "\n",
    "# Nombre del archivo CSV a generar\n",
    "nombre_archivo = '../datos/dataset_testimonios_sinteticos.csv'\n",
    "\n",
    "# Escribir los datos en un archivo CSV\n",
    "with open(nombre_archivo, mode='w', encoding='utf-8', newline='') as archivo_csv:\n",
    "    escritor_csv = csv.writer(archivo_csv)\n",
    "    # Escribir la fila de encabezados\n",
    "    escritor_csv.writerow(['id', 'nombre', 'cedula', 'ciudad', 'categoria', 'testimonio'])\n",
    "    # Generar y escribir cada registro\n",
    "    for idx in tqdm(range(1, num_testimonios + 1), desc=\"Generando testimonios\"):\n",
    "        nombre_completo = fake.name()\n",
    "        cedula = fake.unique.random_number(digits=10)\n",
    "        ciudad = random.choice(ciudades)\n",
    "        categoria = random.choice(categorias)\n",
    "        testimonio = generar_testimonio(categoria)\n",
    "        escritor_csv.writerow([idx, nombre_completo, cedula, ciudad, categoria, testimonio])\n",
    "\n",
    "print(f\"\\nArchivo '{nombre_archivo}' generado con éxito.\")\n"
   ]
  },
  {
   "cell_type": "code",
   "execution_count": null,
   "metadata": {},
   "outputs": [],
   "source": []
  }
 ],
 "metadata": {
  "kernelspec": {
   "display_name": "capacitacion_ubpd",
   "language": "python",
   "name": "python3"
  },
  "language_info": {
   "codemirror_mode": {
    "name": "ipython",
    "version": 3
   },
   "file_extension": ".py",
   "mimetype": "text/x-python",
   "name": "python",
   "nbconvert_exporter": "python",
   "pygments_lexer": "ipython3",
   "version": "3.10.15"
  }
 },
 "nbformat": 4,
 "nbformat_minor": 2
}
